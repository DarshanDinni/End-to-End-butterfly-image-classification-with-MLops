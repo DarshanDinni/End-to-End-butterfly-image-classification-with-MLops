{
 "cells": [
  {
   "cell_type": "code",
   "execution_count": 15,
   "metadata": {},
   "outputs": [],
   "source": [
    "import os\n",
    "import pandas as pd\n",
    "import shutil"
   ]
  },
  {
   "cell_type": "code",
   "execution_count": 16,
   "metadata": {},
   "outputs": [
    {
     "data": {
      "text/html": [
       "<div>\n",
       "<style scoped>\n",
       "    .dataframe tbody tr th:only-of-type {\n",
       "        vertical-align: middle;\n",
       "    }\n",
       "\n",
       "    .dataframe tbody tr th {\n",
       "        vertical-align: top;\n",
       "    }\n",
       "\n",
       "    .dataframe thead th {\n",
       "        text-align: right;\n",
       "    }\n",
       "</style>\n",
       "<table border=\"1\" class=\"dataframe\">\n",
       "  <thead>\n",
       "    <tr style=\"text-align: right;\">\n",
       "      <th></th>\n",
       "      <th>filename</th>\n",
       "      <th>label</th>\n",
       "    </tr>\n",
       "  </thead>\n",
       "  <tbody>\n",
       "    <tr>\n",
       "      <th>0</th>\n",
       "      <td>Image_1.jpg</td>\n",
       "      <td>SOUTHERN DOGFACE</td>\n",
       "    </tr>\n",
       "    <tr>\n",
       "      <th>1</th>\n",
       "      <td>Image_2.jpg</td>\n",
       "      <td>ADONIS</td>\n",
       "    </tr>\n",
       "    <tr>\n",
       "      <th>2</th>\n",
       "      <td>Image_3.jpg</td>\n",
       "      <td>BROWN SIPROETA</td>\n",
       "    </tr>\n",
       "    <tr>\n",
       "      <th>3</th>\n",
       "      <td>Image_4.jpg</td>\n",
       "      <td>MONARCH</td>\n",
       "    </tr>\n",
       "    <tr>\n",
       "      <th>4</th>\n",
       "      <td>Image_5.jpg</td>\n",
       "      <td>GREEN CELLED CATTLEHEART</td>\n",
       "    </tr>\n",
       "  </tbody>\n",
       "</table>\n",
       "</div>"
      ],
      "text/plain": [
       "      filename                     label\n",
       "0  Image_1.jpg          SOUTHERN DOGFACE\n",
       "1  Image_2.jpg                    ADONIS\n",
       "2  Image_3.jpg            BROWN SIPROETA\n",
       "3  Image_4.jpg                   MONARCH\n",
       "4  Image_5.jpg  GREEN CELLED CATTLEHEART"
      ]
     },
     "execution_count": 16,
     "metadata": {},
     "output_type": "execute_result"
    }
   ],
   "source": [
    "df = pd.read_csv(\"../artifacts/data_ingestion/butterfly-image-classification/Training_set.csv\")\n",
    "df.head()"
   ]
  },
  {
   "cell_type": "code",
   "execution_count": 18,
   "metadata": {},
   "outputs": [],
   "source": [
    "from sklearn.model_selection import train_test_split\n",
    "\n",
    "TEST_SIZE = 0.3\n",
    "\n",
    "train_set, validation_set = train_test_split(df, test_size=TEST_SIZE, random_state=42, shuffle=True)"
   ]
  },
  {
   "cell_type": "code",
   "execution_count": 5,
   "metadata": {},
   "outputs": [
    {
     "name": "stdout",
     "output_type": "stream",
     "text": [
      "Data organization completed.\n"
     ]
    }
   ],
   "source": [
    "image_path = '../artifacts/data_ingestion/butterfly-image-classification/train/'\n",
    "# Specify the output folder for organized data\n",
    "output_folder = '../artifacts/data_ingestion/data'\n",
    "\n",
    "# Create output folder if it doesn't exist\n",
    "os.makedirs(output_folder, exist_ok=True)\n",
    "\n",
    "# Iterate through each row in the DataFrame\n",
    "for index, row in df.iterrows():\n",
    "    # Extract file name and label from the DataFrame\n",
    "    file_name = row['filename']\n",
    "    label = row['label']\n",
    "\n",
    "    # Create subfolder for the label if it doesn't exist\n",
    "    label_folder = os.path.join(output_folder, label)\n",
    "    os.makedirs(label_folder, exist_ok=True)\n",
    "\n",
    "    # Define paths for source and destination files\n",
    "    source_path = os.path.join(image_path, file_name)\n",
    "    destination_path = os.path.join(label_folder, file_name)\n",
    "\n",
    "    # Move the image file to the respective subfolder\n",
    "    shutil.move(source_path, destination_path)\n",
    "\n",
    "print(\"Data organization completed.\")"
   ]
  },
  {
   "cell_type": "code",
   "execution_count": null,
   "metadata": {},
   "outputs": [],
   "source": []
  }
 ],
 "metadata": {
  "kernelspec": {
   "display_name": "butterfly",
   "language": "python",
   "name": "python3"
  },
  "language_info": {
   "codemirror_mode": {
    "name": "ipython",
    "version": 3
   },
   "file_extension": ".py",
   "mimetype": "text/x-python",
   "name": "python",
   "nbconvert_exporter": "python",
   "pygments_lexer": "ipython3",
   "version": "3.8.18"
  }
 },
 "nbformat": 4,
 "nbformat_minor": 2
}
